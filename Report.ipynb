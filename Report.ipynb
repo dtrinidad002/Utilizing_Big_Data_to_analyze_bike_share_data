{
 "cells": [
  {
   "cell_type": "code",
   "execution_count": 530,
   "id": "6128c8e7",
   "metadata": {},
   "outputs": [],
   "source": [
    "import pandas as pd\n",
    "import matplotlib as plt\n",
    "import seaborn as sns"
   ]
  },
  {
   "cell_type": "markdown",
   "id": "aeee8d67",
   "metadata": {},
   "source": [
    "# --------------------          PART 1          --------------------\n",
    "# What is the size of the dataset?\n",
    "\n",
    "<u>Answer:</u> \n",
    "    \n",
    "The San Francisco Bikeshare database contains 3 tables;  \n",
    "**bikeshare_stations**:  74 rows,  \n",
    "**bikeshare_status**: 107,501,619 rows,   \n",
    "**bikeshare_trips**: 983,648 rows.  "
   ]
  },
  {
   "cell_type": "code",
   "execution_count": null,
   "id": "c771e858",
   "metadata": {},
   "outputs": [],
   "source": [
    "SELECT COUNT (station_id) AS total_stations\n",
    "FROM `bigquery-public-data.san_francisco.bikeshare_stations`\n"
   ]
  },
  {
   "cell_type": "code",
   "execution_count": null,
   "id": "8e69d5e8",
   "metadata": {},
   "outputs": [],
   "source": [
    "SELECT COUNT (bikes_available) AS total_bike_status\n",
    "FROM `bigquery-public-data.san_francisco.bikeshare_status`\n",
    "WHERE bikes_available IS NOT NULL;"
   ]
  },
  {
   "cell_type": "raw",
   "id": "4a92a078",
   "metadata": {},
   "source": [
    "SELECT COUNT (trip_id) AS total_trips\n",
    "FROM `bigquery-public-data.san_francisco.bikeshare_trips`;"
   ]
  },
  {
   "cell_type": "markdown",
   "id": "0472ac37",
   "metadata": {},
   "source": [
    "## What is the the earliest start date and time and the latest end date and time for a trip?"
   ]
  },
  {
   "cell_type": "markdown",
   "id": "42eebf37",
   "metadata": {},
   "source": [
    "<u>Answer</u>:\n",
    "\n",
    "**Earliest start:** August 29, 2013 @9:08am UTC  \n",
    "**Latest start**: August 31, 2016 @11:32pm UTC"
   ]
  },
  {
   "cell_type": "raw",
   "id": "78ff5698",
   "metadata": {},
   "source": [
    "SELECT start_date AS earliest_start_date\n",
    "FROM `bigquery-public-data.san_francisco.bikeshare_trips`\n",
    "ORDER BY start_date ASC\n",
    "LIMIT 1; "
   ]
  },
  {
   "cell_type": "raw",
   "id": "4d27fd26",
   "metadata": {},
   "source": [
    "SELECT \n",
    "     end_date AS latest_end_date\n",
    "FROM `bigquery-public-data.san_francisco.bikeshare_trips`\n",
    "ORDER BY start_date DESC\n",
    "LIMIT 1; "
   ]
  },
  {
   "cell_type": "markdown",
   "id": "4800df0e",
   "metadata": {},
   "source": [
    "## How many bikes are there? \n",
    "\n",
    "<u>Answer:</u>  \n",
    "There are **883,964,663** bikes"
   ]
  },
  {
   "cell_type": "markdown",
   "id": "458737f3",
   "metadata": {},
   "source": [
    "SELECT SUM(bikes_available) AS total_bikes\n",
    "FROM `bigquery-public-data.san_francisco.bikeshare_status`;\n"
   ]
  },
  {
   "cell_type": "markdown",
   "id": "e6fb6023",
   "metadata": {},
   "source": [
    "### Question 1: What are the top 3 zip codes that show up most in the bikeshare_trips table?\n",
    "\n",
    "<u>Answer:</u>  \n",
    "    **Most**: 94107  (106,913 entries)  \n",
    "    **Second**: 94105  (61,232 entries)  \n",
    "    **Third**: 94133  (46,544 entries)"
   ]
  },
  {
   "cell_type": "code",
   "execution_count": 493,
   "id": "7faa2e75",
   "metadata": {},
   "outputs": [],
   "source": [
    "#BQ CLI Code"
   ]
  },
  {
   "cell_type": "code",
   "execution_count": 494,
   "id": "a8b487c9",
   "metadata": {},
   "outputs": [
    {
     "name": "stderr",
     "output_type": "stream",
     "text": [
      "Query complete after 0.01s: 100%|██████████| 3/3 [00:00<00:00, 652.10query/s]                         \n",
      "Downloading: 100%|██████████| 3/3 [00:00<00:00,  3.37rows/s]\n"
     ]
    },
    {
     "data": {
      "text/html": [
       "<div>\n",
       "<style scoped>\n",
       "    .dataframe tbody tr th:only-of-type {\n",
       "        vertical-align: middle;\n",
       "    }\n",
       "\n",
       "    .dataframe tbody tr th {\n",
       "        vertical-align: top;\n",
       "    }\n",
       "\n",
       "    .dataframe thead th {\n",
       "        text-align: right;\n",
       "    }\n",
       "</style>\n",
       "<table border=\"1\" class=\"dataframe\">\n",
       "  <thead>\n",
       "    <tr style=\"text-align: right;\">\n",
       "      <th></th>\n",
       "      <th>zip_code</th>\n",
       "      <th>total</th>\n",
       "    </tr>\n",
       "  </thead>\n",
       "  <tbody>\n",
       "    <tr>\n",
       "      <th>0</th>\n",
       "      <td>94107</td>\n",
       "      <td>106913</td>\n",
       "    </tr>\n",
       "    <tr>\n",
       "      <th>1</th>\n",
       "      <td>94105</td>\n",
       "      <td>61232</td>\n",
       "    </tr>\n",
       "    <tr>\n",
       "      <th>2</th>\n",
       "      <td>94133</td>\n",
       "      <td>46544</td>\n",
       "    </tr>\n",
       "  </tbody>\n",
       "</table>\n",
       "</div>"
      ],
      "text/plain": [
       "  zip_code   total\n",
       "0    94107  106913\n",
       "1    94105   61232\n",
       "2    94133   46544"
      ]
     },
     "execution_count": 494,
     "metadata": {},
     "output_type": "execute_result"
    }
   ],
   "source": [
    "%%bigquery\n",
    "\n",
    "SELECT zip_code, COUNT(zip_code) AS total \n",
    "FROM `bigquery-public-data.san_francisco.bikeshare_trips` \n",
    "GROUP BY zip_code\n",
    "ORDER BY total DESC \n",
    "LIMIT 3;"
   ]
  },
  {
   "cell_type": "markdown",
   "id": "3369f668",
   "metadata": {},
   "source": [
    "### Question 2: What is the average trip_duration for subscribers and customers?\n",
    "\n",
    "Answer:  \n",
    "        1. The average trip duration for customers is approximately **61 minutes**  \n",
    "        2. The average subscriber trip duration is approximately **9.7 minutes**"
   ]
  },
  {
   "cell_type": "code",
   "execution_count": 495,
   "id": "94c082c7",
   "metadata": {},
   "outputs": [
    {
     "name": "stderr",
     "output_type": "stream",
     "text": [
      "Query complete after 0.01s: 100%|██████████| 2/2 [00:00<00:00, 377.63query/s]                         \n",
      "Downloading: 100%|██████████| 2/2 [00:00<00:00,  2.33rows/s]\n"
     ]
    },
    {
     "data": {
      "text/html": [
       "<div>\n",
       "<style scoped>\n",
       "    .dataframe tbody tr th:only-of-type {\n",
       "        vertical-align: middle;\n",
       "    }\n",
       "\n",
       "    .dataframe tbody tr th {\n",
       "        vertical-align: top;\n",
       "    }\n",
       "\n",
       "    .dataframe thead th {\n",
       "        text-align: right;\n",
       "    }\n",
       "</style>\n",
       "<table border=\"1\" class=\"dataframe\">\n",
       "  <thead>\n",
       "    <tr style=\"text-align: right;\">\n",
       "      <th></th>\n",
       "      <th>subscriber_type</th>\n",
       "      <th>total_trips</th>\n",
       "      <th>avg_trip_minutes</th>\n",
       "    </tr>\n",
       "  </thead>\n",
       "  <tbody>\n",
       "    <tr>\n",
       "      <th>0</th>\n",
       "      <td>Customer</td>\n",
       "      <td>136809</td>\n",
       "      <td>61.979753</td>\n",
       "    </tr>\n",
       "    <tr>\n",
       "      <th>1</th>\n",
       "      <td>Subscriber</td>\n",
       "      <td>846839</td>\n",
       "      <td>9.712737</td>\n",
       "    </tr>\n",
       "  </tbody>\n",
       "</table>\n",
       "</div>"
      ],
      "text/plain": [
       "  subscriber_type  total_trips  avg_trip_minutes\n",
       "0        Customer       136809         61.979753\n",
       "1      Subscriber       846839          9.712737"
      ]
     },
     "execution_count": 495,
     "metadata": {},
     "output_type": "execute_result"
    }
   ],
   "source": [
    "%%bigquery\n",
    "\n",
    "SELECT \n",
    "    subscriber_type, COUNT(subscriber_type) AS total_trips, AVG(duration_sec/60) AS avg_trip_minutes\n",
    "FROM \n",
    "`bigquery-public-data.san_francisco.bikeshare_trips` \n",
    "WHERE \n",
    "    duration_sec IS NOT NULL \n",
    "GROUP BY \n",
    "    subscriber_type;    "
   ]
  },
  {
   "cell_type": "markdown",
   "id": "969b450c",
   "metadata": {},
   "source": [
    "### Question 3: What's the most number of trips for 1 bike?\n",
    "\n",
    "\n",
    "<u>Answer:</u>   \n",
    "    **2872 trips**"
   ]
  },
  {
   "cell_type": "code",
   "execution_count": null,
   "id": "583d85a0",
   "metadata": {},
   "outputs": [],
   "source": [
    "%%bigquery\n",
    "\n",
    "SELECT \n",
    "    bike_number, \n",
    "    COUNT(bike_number) AS total_trips,\n",
    "FROM `bigquery-public-data.san_francisco.bikeshare_trips` \n",
    "GROUP BY bike_number\n",
    "ORDER BY total_trips DESC\n",
    "LIMIT 3;"
   ]
  },
  {
   "cell_type": "markdown",
   "id": "5ea06916",
   "metadata": {},
   "source": [
    "#           --------------------           PART II          --------------------"
   ]
  },
  {
   "cell_type": "markdown",
   "id": "903c3c56",
   "metadata": {},
   "source": [
    "### Whats the Size of the dataset?"
   ]
  },
  {
   "cell_type": "markdown",
   "id": "91525802",
   "metadata": {},
   "source": [
    "<u>Answer:</u>  \n",
    "**bikeshare_station**: 74 entries  \n",
    "**bikeshare_status**:  107,501,619 entries  \n",
    "**bikeshare_trips**:  983,648 entries\n"
   ]
  },
  {
   "cell_type": "code",
   "execution_count": 496,
   "id": "b47bb80a",
   "metadata": {},
   "outputs": [
    {
     "name": "stdout",
     "output_type": "stream",
     "text": [
      "Waiting on bqjob_r113fa41dee6c31e_0000017c4f5a4345_1 ... (0s) Current status: DONE   \n",
      "+---------------------------------+\n",
      "| total_bikeshare_station_entries |\n",
      "+---------------------------------+\n",
      "|                              74 |\n",
      "+---------------------------------+\n"
     ]
    }
   ],
   "source": [
    "!bq query --use_legacy_sql=false 'SELECT COUNT (station_id) AS total_bikeshare_station_entries FROM `bigquery-public-data.san_francisco.bikeshare_stations`'"
   ]
  },
  {
   "cell_type": "code",
   "execution_count": 497,
   "id": "126ed9da",
   "metadata": {},
   "outputs": [
    {
     "name": "stdout",
     "output_type": "stream",
     "text": [
      "Waiting on bqjob_r7d4b0aa72ce75c5b_0000017c4f5a4f05_1 ... (0s) Current status: DONE   \n",
      "+---------------------------+\n",
      "| total_bike_status_entries |\n",
      "+---------------------------+\n",
      "|                 107501619 |\n",
      "+---------------------------+\n"
     ]
    }
   ],
   "source": [
    "!bq query --use_legacy_sql=false 'SELECT COUNT (bikes_available) AS total_bike_status_entries FROM `bigquery-public-data.san_francisco.bikeshare_status`'"
   ]
  },
  {
   "cell_type": "code",
   "execution_count": 498,
   "id": "a302e9e2",
   "metadata": {},
   "outputs": [
    {
     "name": "stdout",
     "output_type": "stream",
     "text": [
      "Waiting on bqjob_r19044188e287f3aa_0000017c4f5a5b94_1 ... (0s) Current status: DONE   \n",
      "+------------------------------+\n",
      "| total_bikeshare_trip_entries |\n",
      "+------------------------------+\n",
      "|                       983648 |\n",
      "+------------------------------+\n"
     ]
    }
   ],
   "source": [
    "!bq query --use_legacy_sql=false 'SELECT COUNT (trip_id) AS total_bikeshare_trip_entries FROM `bigquery-public-data.san_francisco.bikeshare_trips`'"
   ]
  },
  {
   "cell_type": "markdown",
   "id": "342a8008",
   "metadata": {},
   "source": [
    "### What is the earliest start time and latest end time for a trip?**\n",
    "\n",
    "<u>Answer:</u>  \n",
    "**earliest start date**: August 29, 2013 @ 9:08am  \n",
    "**latest end date**: August 31, 2016 @ 11:38pm"
   ]
  },
  {
   "cell_type": "code",
   "execution_count": 499,
   "id": "5d10d94d",
   "metadata": {},
   "outputs": [
    {
     "name": "stdout",
     "output_type": "stream",
     "text": [
      "Waiting on bqjob_r330c1b3890a3f39f_0000017c4f5a6740_1 ... (0s) Current status: DONE   \n",
      "+---------------------+\n",
      "| earliest_start_date |\n",
      "+---------------------+\n",
      "| 2013-08-29 09:08:00 |\n",
      "+---------------------+\n"
     ]
    }
   ],
   "source": [
    "!bq query --use_legacy_sql=false 'SELECT start_date AS earliest_start_date FROM `bigquery-public-data.san_francisco.bikeshare_trips`ORDER BY start_date ASC LIMIT 1' "
   ]
  },
  {
   "cell_type": "code",
   "execution_count": 500,
   "id": "48fdb8d7",
   "metadata": {},
   "outputs": [
    {
     "name": "stdout",
     "output_type": "stream",
     "text": [
      "Waiting on bqjob_r619985a9a783078d_0000017c4f5a7306_1 ... (0s) Current status: DONE   \n",
      "+---------------------+\n",
      "|   latest_end_date   |\n",
      "+---------------------+\n",
      "| 2016-08-31 23:38:00 |\n",
      "+---------------------+\n"
     ]
    }
   ],
   "source": [
    "!bq query --use_legacy_sql=false 'SELECT end_date AS latest_end_date FROM `bigquery-public-data.san_francisco.bikeshare_trips` ORDER BY start_date DESC LIMIT 1' "
   ]
  },
  {
   "cell_type": "markdown",
   "id": "de610708",
   "metadata": {},
   "source": [
    "### How many Bikes are there? \n",
    "\n",
    "<u>Answer:</u>  \n",
    "There are **883,964,663**\n"
   ]
  },
  {
   "cell_type": "code",
   "execution_count": 501,
   "id": "a9b3bed0",
   "metadata": {},
   "outputs": [
    {
     "name": "stdout",
     "output_type": "stream",
     "text": [
      "Waiting on bqjob_r7941c2a8fdf94892_0000017c4f5a7fa3_1 ... (0s) Current status: DONE   \n",
      "+-------------+\n",
      "| total_bikes |\n",
      "+-------------+\n",
      "|   883964663 |\n",
      "+-------------+\n"
     ]
    }
   ],
   "source": [
    "!bq query --use_legacy_sql=false 'SELECT SUM(bikes_available) AS total_bikes FROM `bigquery-public-data.san_francisco.bikeshare_status`'"
   ]
  },
  {
   "cell_type": "markdown",
   "id": "e398d286",
   "metadata": {},
   "source": [
    "### How many trips are in the morning vs in the afternoon?  \n",
    "(*assumption 1: morning is between 24:01 and 12:00  and afternoon is between 12:01 and 24:00*)\n",
    "\n",
    "<u>Answer:</u>  \n",
    "**Morning: 412,339**  \n",
    "**Afternoon: 571,309**  \n",
    "More than half of the trips recorded in this dataset represents trips between 12pm and 11:59pm."
   ]
  },
  {
   "cell_type": "code",
   "execution_count": 502,
   "id": "c45e4741",
   "metadata": {},
   "outputs": [
    {
     "name": "stdout",
     "output_type": "stream",
     "text": [
      "Waiting on bqjob_r474ef2f6cc81ecf4_0000017c4f5a8aff_1 ... (0s) Current status: DONE   \n",
      "+------------+-----------+\n",
      "| trip_total | day_part  |\n",
      "+------------+-----------+\n",
      "|     571309 | afternoon |\n",
      "|     412339 | morning   |\n",
      "+------------+-----------+\n"
     ]
    }
   ],
   "source": [
    "!bq query --use_legacy_sql=false 'SELECT COUNT(start_date) AS trip_total, CASE WHEN hr >= 0 AND hr < 12 THEN \"morning\" WHEN hr >= 12 AND hr < 24 THEN \"afternoon\" END AS day_part FROM `bigquery-public-data.san_francisco.bikeshare_trips`, UNNEST ([EXTRACT(HOUR FROM DATETIME(start_date))]) AS hr GROUP BY day_part;'"
   ]
  },
  {
   "cell_type": "markdown",
   "id": "ad66c925",
   "metadata": {},
   "source": [
    "## PROJECT QUESTIONS"
   ]
  },
  {
   "cell_type": "markdown",
   "id": "7f242fce",
   "metadata": {},
   "source": [
    "1. What is the distribution of customers and subscribers on weekends vs weekdays?\n",
    "2. Between customers and subscribers, who make up the majority of trips on weekdays?\n",
    "2. What station has the least recorded customers and subscribers? \n",
    "3. what is the frequency of trips during common rush hour traffic times? (5am-9am, 3pm-7pm including weekends)\n",
    "4. What is the monthly distribution of customers and subscribers?\n"
   ]
  },
  {
   "cell_type": "markdown",
   "id": "cc85ecb7",
   "metadata": {},
   "source": [
    "## Q1: How many customers for for each day of week?"
   ]
  },
  {
   "cell_type": "markdown",
   "id": "947bd4e6",
   "metadata": {},
   "source": [
    "<u>Answer</u>:  \n",
    "\n",
    "Sunday (1) = 51,375 trips  \n",
    "Monday (2) = 169,937 trips  \n",
    "Tuesday (3) = 184,405 trips    \n",
    "Wednesday (4) = 180,767 trips  \n",
    "Thursday (5) = 176,908 trips  \n",
    "Friday (6) = 159,977 trips  \n",
    "Saturday (7) = 60,279 trips  \n",
    "\n"
   ]
  },
  {
   "cell_type": "code",
   "execution_count": 503,
   "id": "4111a19d",
   "metadata": {},
   "outputs": [
    {
     "name": "stdout",
     "output_type": "stream",
     "text": [
      "Waiting on bqjob_r2b70bba9751f81a3_0000017c4f5a9704_1 ... (0s) Current status: DONE   \n",
      "+-------------+-------------+\n",
      "| day_of_week | total_trips |\n",
      "+-------------+-------------+\n",
      "|           1 |       51375 |\n",
      "|           2 |      169937 |\n",
      "|           3 |      184405 |\n",
      "|           4 |      180767 |\n",
      "|           5 |      176908 |\n",
      "|           6 |      159977 |\n",
      "|           7 |       60279 |\n",
      "+-------------+-------------+\n"
     ]
    }
   ],
   "source": [
    "! bq query --use_legacy_sql=FALSE 'SELECT  day_of_week, COUNT(*) AS total_trips, FROM (SELECT start_date, EXTRACT(DAYOFWEEK FROM start_date) AS day_of_week FROM 'bigquery-public-data.san_francisco.bikeshare_trips') GROUP BY day_of_week ORDER BY day_of_week'"
   ]
  },
  {
   "cell_type": "markdown",
   "id": "9c3da970",
   "metadata": {},
   "source": [
    "## Q2: Between customers and subscribers, who make up the majority of trips on weekdays?"
   ]
  },
  {
   "cell_type": "markdown",
   "id": "985ae9e8",
   "metadata": {},
   "source": [
    "<u>Answer</u>:  \n",
    "Based on the querey, you can see that the majority of subscribers take trips between days 2- 6 (Mon-Fri)  \n",
    "\n",
    "Sunday (1) = [Customer: 25,908] , [Subscriber: 25,467]  \n",
    "**Monday (2) = [Customer:154,795], [Subscriber:15,142]   \n",
    "Tuesday (3) =  [Customer:14,737],[Subscriber:169,668]    \n",
    "Wednesday (4) =   [Customer:165,530],[Subscriber:15,237]  \n",
    "Thursday (5) =   [Customer:16,612],[Subscriber:160,296]  \n",
    "Friday (6) =  [Customer:19,929],[Subscriber:140,048]**  \n",
    "Saturday (7) =   [Customer:31,035],[Subscriber:29,244]"
   ]
  },
  {
   "cell_type": "code",
   "execution_count": 504,
   "id": "f4e92ba9",
   "metadata": {},
   "outputs": [
    {
     "name": "stdout",
     "output_type": "stream",
     "text": [
      "Waiting on bqjob_r48a1611cdc958b68_0000017c4f5a9e4f_1 ... (0s) Current status: DONE   \n",
      "+-----------------+-------------+-------------+\n",
      "| subscriber_type | day_of_week | total_trips |\n",
      "+-----------------+-------------+-------------+\n",
      "| Customer        |           1 |       25908 |\n",
      "| Subscriber      |           1 |       25467 |\n",
      "| Subscriber      |           2 |      154795 |\n",
      "| Customer        |           2 |       15142 |\n",
      "| Customer        |           3 |       14737 |\n",
      "| Subscriber      |           3 |      169668 |\n",
      "| Subscriber      |           4 |      165530 |\n",
      "| Customer        |           4 |       15237 |\n",
      "| Customer        |           5 |       16612 |\n",
      "| Subscriber      |           5 |      160296 |\n",
      "| Customer        |           6 |       19929 |\n",
      "| Subscriber      |           6 |      140048 |\n",
      "| Subscriber      |           7 |       31035 |\n",
      "| Customer        |           7 |       29244 |\n",
      "+-----------------+-------------+-------------+\n"
     ]
    }
   ],
   "source": [
    "! bq query --use_legacy_sql=FALSE 'SELECT  subscriber_type, day_of_week, COUNT(*) AS total_trips, FROM (SELECT subscriber_type, start_date, EXTRACT(DAYOFWEEK FROM start_date) AS day_of_week FROM 'bigquery-public-data.san_francisco.bikeshare_trips') GROUP BY subscriber_type, day_of_week ORDER BY day_of_week'"
   ]
  },
  {
   "cell_type": "markdown",
   "id": "c1e4ab26",
   "metadata": {},
   "source": [
    "### Q2: what is the frequency of trips during common rush hour traffic times? (5am-9am, 3pm-7pm including weekends)\n",
    "\n",
    "_Note: 5am-9am = \"morning_rush\", & 3pm-7pm = \"afternoon_rush\"_\n",
    "\n",
    "<u>Answer:</u>\n",
    "There are **347,252** trips taken during the afternoon rush hour, and **225612** trips taken during the morning rush hour as compared to **410,784** trips during non-rush hour traffic."
   ]
  },
  {
   "cell_type": "code",
   "execution_count": 1,
   "id": "f0fdf834",
   "metadata": {},
   "outputs": [
    {
     "name": "stderr",
     "output_type": "stream",
     "text": [
      "Query complete after 0.01s: 100%|██████████| 1/1 [00:00<00:00, 339.40query/s] \n",
      "Downloading: 100%|██████████| 3/3 [00:00<00:00,  3.06rows/s]\n"
     ]
    },
    {
     "data": {
      "text/html": [
       "<div>\n",
       "<style scoped>\n",
       "    .dataframe tbody tr th:only-of-type {\n",
       "        vertical-align: middle;\n",
       "    }\n",
       "\n",
       "    .dataframe tbody tr th {\n",
       "        vertical-align: top;\n",
       "    }\n",
       "\n",
       "    .dataframe thead th {\n",
       "        text-align: right;\n",
       "    }\n",
       "</style>\n",
       "<table border=\"1\" class=\"dataframe\">\n",
       "  <thead>\n",
       "    <tr style=\"text-align: right;\">\n",
       "      <th></th>\n",
       "      <th>trip_total</th>\n",
       "      <th>day_part</th>\n",
       "    </tr>\n",
       "  </thead>\n",
       "  <tbody>\n",
       "    <tr>\n",
       "      <th>0</th>\n",
       "      <td>347252</td>\n",
       "      <td>afternoon_rushour</td>\n",
       "    </tr>\n",
       "    <tr>\n",
       "      <th>1</th>\n",
       "      <td>410784</td>\n",
       "      <td>not_rushhour</td>\n",
       "    </tr>\n",
       "    <tr>\n",
       "      <th>2</th>\n",
       "      <td>225612</td>\n",
       "      <td>morning_rushhour</td>\n",
       "    </tr>\n",
       "  </tbody>\n",
       "</table>\n",
       "</div>"
      ],
      "text/plain": [
       "   trip_total           day_part\n",
       "0      347252  afternoon_rushour\n",
       "1      410784       not_rushhour\n",
       "2      225612   morning_rushhour"
      ]
     },
     "execution_count": 1,
     "metadata": {},
     "output_type": "execute_result"
    }
   ],
   "source": [
    "%%bigquery\n",
    "\n",
    "SELECT COUNT(*) AS trip_total,\n",
    " CASE\n",
    "   WHEN hr >= 5 AND hr < 9 THEN \"morning_rushhour\"\n",
    "   WHEN hr >= 15 AND hr < 19 THEN \"afternoon_rushour\"\n",
    "   ELSE 'not_rushhour'\n",
    " END AS day_part\n",
    "FROM `bigquery-public-data.san_francisco.bikeshare_trips`,\n",
    "UNNEST ([EXTRACT(HOUR FROM DATETIME(start_date))]) AS hr\n",
    "GROUP BY day_part;"
   ]
  },
  {
   "cell_type": "markdown",
   "id": "2ec94f70",
   "metadata": {},
   "source": [
    "### Q3: what station has the least recorded customers and subscriber trips? "
   ]
  },
  {
   "cell_type": "markdown",
   "id": "1f57fa69",
   "metadata": {},
   "source": [
    "<u>Answer</u>\n",
    "Station 88 has the least number of subscribers and customers. According to my research on this location, San Salvador street is near San Jose State. Besides Kaiser hospital and Sequoia Hostipal (Redwood City), the next few recorded stations with the least number of trips are in San Jose as well. "
   ]
  },
  {
   "cell_type": "code",
   "execution_count": 278,
   "id": "3c08d4ac",
   "metadata": {},
   "outputs": [
    {
     "name": "stdout",
     "output_type": "stream",
     "text": [
      "Waiting on bqjob_r5aea468bd94a2750_0000017c4e5c8b87_1 ... (0s) Current status: DONE   \n",
      "+------------------+------------------------------+-----------------+-------+\n",
      "| start_station_id |      start_station_name      | subscriber_type | total |\n",
      "+------------------+------------------------------+-----------------+-------+\n",
      "|               88 | 5th St at E. San Salvador St | Subscriber      |     1 |\n",
      "|               88 | 5th S at E. San Salvador St  | Customer        |     6 |\n",
      "|               26 | Kaiser Hospital              | Customer        |     7 |\n",
      "|               21 | Sequoia Hospital             | Subscriber      |     7 |\n",
      "|               21 | Sequoia Hospital             | Customer        |     8 |\n",
      "|               80 | San Jose Government Center   | Customer        |    11 |\n",
      "|               80 | San Jose Government Center   | Subscriber      |    12 |\n",
      "|               88 | 5th S at E. San Salvador St  | Subscriber      |    13 |\n",
      "+------------------+------------------------------+-----------------+-------+\n"
     ]
    }
   ],
   "source": [
    " ! bq query --use_legacy_sql=FALSE 'SELECT start_station_id, start_station_name, subscriber_type, COUNT(subscriber_type) AS total FROM `bigquery-public-data.san_francisco.bikeshare_trips` GROUP BY start_station_id, start_station_name, subscriber_type ORDER BY total ASC LIMIT 8;'"
   ]
  },
  {
   "cell_type": "markdown",
   "id": "c42d8dbc",
   "metadata": {},
   "source": [
    "### Q4:  What months of the year have the most trips?\n",
    "\n",
    "<u>Answer</u>\n",
    "August, Octover and June show up as the top 3 months with the most rides. It comes at no surprise that months where the weather is much colder like November, December, January and February show up at the bottom of the list. "
   ]
  },
  {
   "cell_type": "code",
   "execution_count": 14,
   "id": "d10fdd61",
   "metadata": {},
   "outputs": [
    {
     "name": "stderr",
     "output_type": "stream",
     "text": [
      "Query complete after 0.00s: 100%|██████████| 1/1 [00:00<00:00, 268.78query/s] \n",
      "Downloading: 100%|██████████| 12/12 [00:00<00:00, 13.76rows/s]\n"
     ]
    },
    {
     "data": {
      "text/html": [
       "<div>\n",
       "<style scoped>\n",
       "    .dataframe tbody tr th:only-of-type {\n",
       "        vertical-align: middle;\n",
       "    }\n",
       "\n",
       "    .dataframe tbody tr th {\n",
       "        vertical-align: top;\n",
       "    }\n",
       "\n",
       "    .dataframe thead th {\n",
       "        text-align: right;\n",
       "    }\n",
       "</style>\n",
       "<table border=\"1\" class=\"dataframe\">\n",
       "  <thead>\n",
       "    <tr style=\"text-align: right;\">\n",
       "      <th></th>\n",
       "      <th>calendar_month</th>\n",
       "      <th>total</th>\n",
       "    </tr>\n",
       "  </thead>\n",
       "  <tbody>\n",
       "    <tr>\n",
       "      <th>0</th>\n",
       "      <td>January</td>\n",
       "      <td>71788</td>\n",
       "    </tr>\n",
       "    <tr>\n",
       "      <th>1</th>\n",
       "      <td>February</td>\n",
       "      <td>69985</td>\n",
       "    </tr>\n",
       "    <tr>\n",
       "      <th>2</th>\n",
       "      <td>March</td>\n",
       "      <td>81777</td>\n",
       "    </tr>\n",
       "    <tr>\n",
       "      <th>3</th>\n",
       "      <td>April</td>\n",
       "      <td>84196</td>\n",
       "    </tr>\n",
       "    <tr>\n",
       "      <th>4</th>\n",
       "      <td>May</td>\n",
       "      <td>86364</td>\n",
       "    </tr>\n",
       "    <tr>\n",
       "      <th>5</th>\n",
       "      <td>June</td>\n",
       "      <td>91672</td>\n",
       "    </tr>\n",
       "    <tr>\n",
       "      <th>6</th>\n",
       "      <td>July</td>\n",
       "      <td>89539</td>\n",
       "    </tr>\n",
       "    <tr>\n",
       "      <th>7</th>\n",
       "      <td>August</td>\n",
       "      <td>95576</td>\n",
       "    </tr>\n",
       "    <tr>\n",
       "      <th>8</th>\n",
       "      <td>September</td>\n",
       "      <td>87321</td>\n",
       "    </tr>\n",
       "    <tr>\n",
       "      <th>9</th>\n",
       "      <td>October</td>\n",
       "      <td>94378</td>\n",
       "    </tr>\n",
       "    <tr>\n",
       "      <th>10</th>\n",
       "      <td>November</td>\n",
       "      <td>73091</td>\n",
       "    </tr>\n",
       "    <tr>\n",
       "      <th>11</th>\n",
       "      <td>December</td>\n",
       "      <td>57961</td>\n",
       "    </tr>\n",
       "  </tbody>\n",
       "</table>\n",
       "</div>"
      ],
      "text/plain": [
       "   calendar_month  total\n",
       "0         January  71788\n",
       "1        February  69985\n",
       "2           March  81777\n",
       "3           April  84196\n",
       "4             May  86364\n",
       "5            June  91672\n",
       "6            July  89539\n",
       "7          August  95576\n",
       "8       September  87321\n",
       "9         October  94378\n",
       "10       November  73091\n",
       "11       December  57961"
      ]
     },
     "execution_count": 14,
     "metadata": {},
     "output_type": "execute_result"
    }
   ],
   "source": [
    "%%bigquery\n",
    "\n",
    "SELECT \n",
    "CASE\n",
    "   WHEN month = 1  THEN \"January\"\n",
    "   WHEN month = 2  THEN \"February\"\n",
    "   WHEN month = 3  THEN \"March\"\n",
    "   WHEN month = 4  THEN \"April\"\n",
    "   WHEN month = 5  THEN \"May\"\n",
    "   WHEN month = 6  THEN \"June\"\n",
    "   WHEN month = 7  THEN \"July\"\n",
    "   WHEN month = 8  THEN \"August\"\n",
    "   WHEN month = 9  THEN \"September\"\n",
    "   WHEN month = 10  THEN \"October\"\n",
    "   WHEN month = 11  THEN \"November\"\n",
    "   WHEN month = 12  THEN \"December\"\n",
    "END AS calendar_month, COUNT(*) AS total, \n",
    "FROM `bigquery-public-data.san_francisco.bikeshare_trips`, \n",
    "UNNEST ([EXTRACT(MONTH FROM DATETIME(start_date))]) AS month\n",
    "GROUP BY month\n",
    "ORDER BY month;"
   ]
  },
  {
   "cell_type": "markdown",
   "id": "c045a1e4",
   "metadata": {},
   "source": [
    "## Question 5: What are the top 5 \"Subscriber\" trips and average ride duration? \n",
    "\n",
    "<u>Answer:</u> Based on the results the most frequent trips taken by subscribed customers are traveling within down town San Francisco on Townsend street and the the Ferry Building. Each start station has a distinct end station which is indicative of a commuter trip. Below are the results of the query.\n",
    "  \n",
    "1. SF Caltrain 2 to Townsend at 7th ( 5 min)  \n",
    "2. 2nd at Townsend to Harry Bridges Plaza (8.6 min)  \n",
    "3. Townsend at 7th to San Francisco Caltrain (4.2 min)  \n",
    "4. Harry Bridges Plaza (Ferry Building) to 2nd and Townsend (10 min)  \n",
    "5. Embarcadero at sansome to Steuart at Market (6.6 minutes)  "
   ]
  },
  {
   "cell_type": "code",
   "execution_count": 9,
   "id": "cf2e6429",
   "metadata": {},
   "outputs": [
    {
     "name": "stderr",
     "output_type": "stream",
     "text": [
      "Query complete after 0.01s: 100%|██████████| 3/3 [00:00<00:00, 501.27query/s]                         \n",
      "Downloading: 100%|██████████| 5/5 [00:00<00:00,  5.50rows/s]\n"
     ]
    },
    {
     "data": {
      "text/html": [
       "<div>\n",
       "<style scoped>\n",
       "    .dataframe tbody tr th:only-of-type {\n",
       "        vertical-align: middle;\n",
       "    }\n",
       "\n",
       "    .dataframe tbody tr th {\n",
       "        vertical-align: top;\n",
       "    }\n",
       "\n",
       "    .dataframe thead th {\n",
       "        text-align: right;\n",
       "    }\n",
       "</style>\n",
       "<table border=\"1\" class=\"dataframe\">\n",
       "  <thead>\n",
       "    <tr style=\"text-align: right;\">\n",
       "      <th></th>\n",
       "      <th>start_station_name</th>\n",
       "      <th>end_station_name</th>\n",
       "      <th>subscriber_type</th>\n",
       "      <th>avg_duration_min</th>\n",
       "      <th>trip_freq</th>\n",
       "    </tr>\n",
       "  </thead>\n",
       "  <tbody>\n",
       "    <tr>\n",
       "      <th>0</th>\n",
       "      <td>San Francisco Caltrain 2 (330 Townsend)</td>\n",
       "      <td>Townsend at 7th</td>\n",
       "      <td>Subscriber</td>\n",
       "      <td>4.94</td>\n",
       "      <td>8305</td>\n",
       "    </tr>\n",
       "    <tr>\n",
       "      <th>1</th>\n",
       "      <td>2nd at Townsend</td>\n",
       "      <td>Harry Bridges Plaza (Ferry Building)</td>\n",
       "      <td>Subscriber</td>\n",
       "      <td>8.61</td>\n",
       "      <td>6931</td>\n",
       "    </tr>\n",
       "    <tr>\n",
       "      <th>2</th>\n",
       "      <td>Townsend at 7th</td>\n",
       "      <td>San Francisco Caltrain 2 (330 Townsend)</td>\n",
       "      <td>Subscriber</td>\n",
       "      <td>4.22</td>\n",
       "      <td>6641</td>\n",
       "    </tr>\n",
       "    <tr>\n",
       "      <th>3</th>\n",
       "      <td>Harry Bridges Plaza (Ferry Building)</td>\n",
       "      <td>2nd at Townsend</td>\n",
       "      <td>Subscriber</td>\n",
       "      <td>9.76</td>\n",
       "      <td>6332</td>\n",
       "    </tr>\n",
       "    <tr>\n",
       "      <th>4</th>\n",
       "      <td>Embarcadero at Sansome</td>\n",
       "      <td>Steuart at Market</td>\n",
       "      <td>Subscriber</td>\n",
       "      <td>6.66</td>\n",
       "      <td>6200</td>\n",
       "    </tr>\n",
       "  </tbody>\n",
       "</table>\n",
       "</div>"
      ],
      "text/plain": [
       "                        start_station_name  \\\n",
       "0  San Francisco Caltrain 2 (330 Townsend)   \n",
       "1                          2nd at Townsend   \n",
       "2                          Townsend at 7th   \n",
       "3     Harry Bridges Plaza (Ferry Building)   \n",
       "4                   Embarcadero at Sansome   \n",
       "\n",
       "                          end_station_name subscriber_type  avg_duration_min  \\\n",
       "0                          Townsend at 7th      Subscriber              4.94   \n",
       "1     Harry Bridges Plaza (Ferry Building)      Subscriber              8.61   \n",
       "2  San Francisco Caltrain 2 (330 Townsend)      Subscriber              4.22   \n",
       "3                          2nd at Townsend      Subscriber              9.76   \n",
       "4                        Steuart at Market      Subscriber              6.66   \n",
       "\n",
       "   trip_freq  \n",
       "0       8305  \n",
       "1       6931  \n",
       "2       6641  \n",
       "3       6332  \n",
       "4       6200  "
      ]
     },
     "execution_count": 9,
     "metadata": {},
     "output_type": "execute_result"
    }
   ],
   "source": [
    "%%bigquery\n",
    "\n",
    "SELECT start_station_name, end_station_name, subscriber_type, ROUND(AVG(duration_sec/60),2) AS avg_duration_min, COUNT(*) as trip_freq \n",
    "FROM `bigquery-public-data.san_francisco.bikeshare_trips` \n",
    "WHERE subscriber_type = \"Subscriber\" AND duration_sec IS NOT NULL \n",
    "GROUP BY start_station_name, end_station_name, subscriber_type \n",
    "ORDER BY trip_freq DESC LIMIT 5;"
   ]
  },
  {
   "cell_type": "markdown",
   "id": "49271d84",
   "metadata": {},
   "source": [
    "## Question 6: What are the top 5 \"Customer\" trips and average ride duration? \n",
    "\n",
    "<u>Answer:</u> Based on the results below, most customers travel between the ferry building and embarcadero street at Sansome. However, row 1-4 we observe that the start and end station are the same, which is indicative that these may be leasurely rides rather than a commuter trip. The average duration is between approximately 28 minutes and 114 minutes.   \n",
    "  "
   ]
  },
  {
   "cell_type": "code",
   "execution_count": 19,
   "id": "be3b505d",
   "metadata": {},
   "outputs": [
    {
     "name": "stderr",
     "output_type": "stream",
     "text": [
      "Query complete after 0.00s: 100%|██████████| 1/1 [00:00<00:00, 382.24query/s] \n",
      "Downloading: 100%|██████████| 5/5 [00:00<00:00,  5.29rows/s]\n"
     ]
    },
    {
     "data": {
      "text/html": [
       "<div>\n",
       "<style scoped>\n",
       "    .dataframe tbody tr th:only-of-type {\n",
       "        vertical-align: middle;\n",
       "    }\n",
       "\n",
       "    .dataframe tbody tr th {\n",
       "        vertical-align: top;\n",
       "    }\n",
       "\n",
       "    .dataframe thead th {\n",
       "        text-align: right;\n",
       "    }\n",
       "</style>\n",
       "<table border=\"1\" class=\"dataframe\">\n",
       "  <thead>\n",
       "    <tr style=\"text-align: right;\">\n",
       "      <th></th>\n",
       "      <th>start_station_name</th>\n",
       "      <th>end_station_name</th>\n",
       "      <th>subscriber_type</th>\n",
       "      <th>avg_duration_min</th>\n",
       "      <th>trip_freq</th>\n",
       "    </tr>\n",
       "  </thead>\n",
       "  <tbody>\n",
       "    <tr>\n",
       "      <th>0</th>\n",
       "      <td>Harry Bridges Plaza (Ferry Building)</td>\n",
       "      <td>Embarcadero at Sansome</td>\n",
       "      <td>Customer</td>\n",
       "      <td>38.06</td>\n",
       "      <td>3667</td>\n",
       "    </tr>\n",
       "    <tr>\n",
       "      <th>1</th>\n",
       "      <td>Embarcadero at Sansome</td>\n",
       "      <td>Embarcadero at Sansome</td>\n",
       "      <td>Customer</td>\n",
       "      <td>78.74</td>\n",
       "      <td>2545</td>\n",
       "    </tr>\n",
       "    <tr>\n",
       "      <th>2</th>\n",
       "      <td>Harry Bridges Plaza (Ferry Building)</td>\n",
       "      <td>Harry Bridges Plaza (Ferry Building)</td>\n",
       "      <td>Customer</td>\n",
       "      <td>113.37</td>\n",
       "      <td>2004</td>\n",
       "    </tr>\n",
       "    <tr>\n",
       "      <th>3</th>\n",
       "      <td>Embarcadero at Sansome</td>\n",
       "      <td>Harry Bridges Plaza (Ferry Building)</td>\n",
       "      <td>Customer</td>\n",
       "      <td>27.99</td>\n",
       "      <td>1638</td>\n",
       "    </tr>\n",
       "    <tr>\n",
       "      <th>4</th>\n",
       "      <td>Embarcadero at Vallejo</td>\n",
       "      <td>Embarcadero at Sansome</td>\n",
       "      <td>Customer</td>\n",
       "      <td>44.59</td>\n",
       "      <td>1345</td>\n",
       "    </tr>\n",
       "  </tbody>\n",
       "</table>\n",
       "</div>"
      ],
      "text/plain": [
       "                     start_station_name                      end_station_name  \\\n",
       "0  Harry Bridges Plaza (Ferry Building)                Embarcadero at Sansome   \n",
       "1                Embarcadero at Sansome                Embarcadero at Sansome   \n",
       "2  Harry Bridges Plaza (Ferry Building)  Harry Bridges Plaza (Ferry Building)   \n",
       "3                Embarcadero at Sansome  Harry Bridges Plaza (Ferry Building)   \n",
       "4                Embarcadero at Vallejo                Embarcadero at Sansome   \n",
       "\n",
       "  subscriber_type  avg_duration_min  trip_freq  \n",
       "0        Customer             38.06       3667  \n",
       "1        Customer             78.74       2545  \n",
       "2        Customer            113.37       2004  \n",
       "3        Customer             27.99       1638  \n",
       "4        Customer             44.59       1345  "
      ]
     },
     "execution_count": 19,
     "metadata": {},
     "output_type": "execute_result"
    }
   ],
   "source": [
    "%%bigquery\n",
    "\n",
    "SELECT start_station_name, end_station_name, subscriber_type, ROUND(AVG(duration_sec/60),2) AS avg_duration_min, COUNT(*) as trip_freq \n",
    "FROM `bigquery-public-data.san_francisco.bikeshare_trips` \n",
    "WHERE subscriber_type = \"Customer\" AND duration_sec IS NOT NULL \n",
    "GROUP BY start_station_name, end_station_name, subscriber_type \n",
    "ORDER BY trip_freq DESC LIMIT 5;"
   ]
  },
  {
   "cell_type": "markdown",
   "id": "5b08eaee",
   "metadata": {},
   "source": [
    "#           --------------------           PART III          --------------------"
   ]
  },
  {
   "cell_type": "markdown",
   "id": "a5de05f7",
   "metadata": {},
   "source": [
    "\n"
   ]
  },
  {
   "cell_type": "markdown",
   "id": "567fde2f",
   "metadata": {},
   "source": [
    "## SECTION SCOPE:  \n",
    "\n",
    "In this section I will explain my process of defining \"Commuter Trips\" and provide my reccomendations for increasing customer market share. "
   ]
  },
  {
   "cell_type": "markdown",
   "id": "db15268c",
   "metadata": {},
   "source": [
    "## 5 most popular commuter trips: \n",
    "\n",
    "**Definition of \"Commuter Trip\"** - Based on my analysis of the San Francisco rideshare data, a commuter trip is one that meets the following conditions.  \n",
    "\n",
    "1. Have a distinct starting point (start_station) and end point (end_station). \n",
    "2. Travel during weekdays\n",
    "3. Travel during the typical rush hour traffic hours (hours 5 - 9, and hours 15 - 19)  \n",
    "\n",
    "Given these conditions, the top 5 most popular \"commuter trips\" are the following: \n",
    "\n",
    "1. Harry Bridges Plaza -> 2nd at Townsend **_{Thursday:8am}_**\n",
    "2. Harry Bridges Plaza -> Harry Bridges Plaza **_{Tuesday:8am}_**\n",
    "3. Harry Bridges Plaza -> 2nd at Townsend **_{Wednesday:8am}_**  \n",
    "4. Harry Bridges Plaza -> 2nd at Townsend **_{Monday:8am}_**\n",
    "5. Embarcadero at Folsom -> San Francisco Caltrain **_{Wednesday:4pm}_**  \n",
    "\n",
    "We also observe that the top 5 commuter trips are customers who are **subscribed** to a 30 day membership, another telling sign that these trips are not recreational given the trip averages between 8 and 10 minutes. Subscribers here are likely using the bikes after riding the ferry or the Caltrain. From a subscriber's perspective, it would be inconvenient to travel with their own bike while riding the fairy or train, and more expensive to use rideshare apps like UBER or Lyft for short trips."
   ]
  },
  {
   "cell_type": "code",
   "execution_count": 471,
   "id": "2d8207a7",
   "metadata": {},
   "outputs": [
    {
     "name": "stderr",
     "output_type": "stream",
     "text": [
      "Query complete after 0.00s: 100%|██████████| 1/1 [00:00<00:00, 268.62query/s] \n",
      "Downloading: 100%|██████████| 5/5 [00:00<00:00,  5.43rows/s]\n"
     ]
    }
   ],
   "source": [
    "%%bigquery my_panda_data_frame\n",
    "\n",
    "SELECT start_station_name, end_station_name,\n",
    "   EXTRACT(DAYOFWEEK FROM start_date) AS day_of_week, subscriber_type,\n",
    "   EXTRACT(HOUR FROM start_date) AS hour_of_day,\n",
    "   ROUND(AVG(duration_sec/60),2) AS avg_duration_min,\n",
    "   COUNT(*) as trip_freq,\n",
    "FROM `bigquery-public-data.san_francisco.bikeshare_trips`\n",
    "GROUP BY start_station_name, end_station_name, day_of_week, hour_of_day, subscriber_type\n",
    "ORDER BY trip_freq DESC LIMIT 5;"
   ]
  },
  {
   "cell_type": "code",
   "execution_count": 472,
   "id": "be301ea8",
   "metadata": {},
   "outputs": [
    {
     "data": {
      "text/html": [
       "<div>\n",
       "<style scoped>\n",
       "    .dataframe tbody tr th:only-of-type {\n",
       "        vertical-align: middle;\n",
       "    }\n",
       "\n",
       "    .dataframe tbody tr th {\n",
       "        vertical-align: top;\n",
       "    }\n",
       "\n",
       "    .dataframe thead th {\n",
       "        text-align: right;\n",
       "    }\n",
       "</style>\n",
       "<table border=\"1\" class=\"dataframe\">\n",
       "  <thead>\n",
       "    <tr style=\"text-align: right;\">\n",
       "      <th></th>\n",
       "      <th>start_station_name</th>\n",
       "      <th>end_station_name</th>\n",
       "      <th>day_of_week</th>\n",
       "      <th>subscriber_type</th>\n",
       "      <th>hour_of_day</th>\n",
       "      <th>avg_duration_min</th>\n",
       "      <th>trip_freq</th>\n",
       "    </tr>\n",
       "  </thead>\n",
       "  <tbody>\n",
       "    <tr>\n",
       "      <th>0</th>\n",
       "      <td>Harry Bridges Plaza (Ferry Building)</td>\n",
       "      <td>2nd at Townsend</td>\n",
       "      <td>5</td>\n",
       "      <td>Subscriber</td>\n",
       "      <td>8</td>\n",
       "      <td>8.82</td>\n",
       "      <td>628</td>\n",
       "    </tr>\n",
       "    <tr>\n",
       "      <th>1</th>\n",
       "      <td>Harry Bridges Plaza (Ferry Building)</td>\n",
       "      <td>2nd at Townsend</td>\n",
       "      <td>3</td>\n",
       "      <td>Subscriber</td>\n",
       "      <td>8</td>\n",
       "      <td>8.89</td>\n",
       "      <td>626</td>\n",
       "    </tr>\n",
       "    <tr>\n",
       "      <th>2</th>\n",
       "      <td>Harry Bridges Plaza (Ferry Building)</td>\n",
       "      <td>2nd at Townsend</td>\n",
       "      <td>4</td>\n",
       "      <td>Subscriber</td>\n",
       "      <td>8</td>\n",
       "      <td>8.81</td>\n",
       "      <td>620</td>\n",
       "    </tr>\n",
       "    <tr>\n",
       "      <th>3</th>\n",
       "      <td>Harry Bridges Plaza (Ferry Building)</td>\n",
       "      <td>2nd at Townsend</td>\n",
       "      <td>2</td>\n",
       "      <td>Subscriber</td>\n",
       "      <td>8</td>\n",
       "      <td>9.04</td>\n",
       "      <td>585</td>\n",
       "    </tr>\n",
       "    <tr>\n",
       "      <th>4</th>\n",
       "      <td>Embarcadero at Folsom</td>\n",
       "      <td>San Francisco Caltrain (Townsend at 4th)</td>\n",
       "      <td>4</td>\n",
       "      <td>Subscriber</td>\n",
       "      <td>16</td>\n",
       "      <td>10.18</td>\n",
       "      <td>427</td>\n",
       "    </tr>\n",
       "  </tbody>\n",
       "</table>\n",
       "</div>"
      ],
      "text/plain": [
       "                     start_station_name  \\\n",
       "0  Harry Bridges Plaza (Ferry Building)   \n",
       "1  Harry Bridges Plaza (Ferry Building)   \n",
       "2  Harry Bridges Plaza (Ferry Building)   \n",
       "3  Harry Bridges Plaza (Ferry Building)   \n",
       "4                 Embarcadero at Folsom   \n",
       "\n",
       "                           end_station_name  day_of_week subscriber_type  \\\n",
       "0                           2nd at Townsend            5      Subscriber   \n",
       "1                           2nd at Townsend            3      Subscriber   \n",
       "2                           2nd at Townsend            4      Subscriber   \n",
       "3                           2nd at Townsend            2      Subscriber   \n",
       "4  San Francisco Caltrain (Townsend at 4th)            4      Subscriber   \n",
       "\n",
       "   hour_of_day  avg_duration_min  trip_freq  \n",
       "0            8              8.82        628  \n",
       "1            8              8.89        626  \n",
       "2            8              8.81        620  \n",
       "3            8              9.04        585  \n",
       "4           16             10.18        427  "
      ]
     },
     "execution_count": 472,
     "metadata": {},
     "output_type": "execute_result"
    }
   ],
   "source": [
    "my_panda_data_frame"
   ]
  },
  {
   "cell_type": "markdown",
   "id": "5fedfd2d",
   "metadata": {},
   "source": [
    "## **<u>Recomendation 1:</u>**  _Remove service of bikes that are least popular and transport assets to our more successful location where demand is higher._  \n",
    "\n",
    "Our current stations in the San Jose Bay area, specifically around the San Carlos area is not doing very well.  Below is a chart displaying the current usage. By relocating these assets from our least successful region will be to cut our losses and enable better support the commuter trips. "
   ]
  },
  {
   "cell_type": "code",
   "execution_count": 564,
   "id": "c8bc75cb",
   "metadata": {},
   "outputs": [
    {
     "name": "stderr",
     "output_type": "stream",
     "text": [
      "Query complete after 0.00s: 100%|██████████| 3/3 [00:00<00:00, 1002.06query/s]                        \n",
      "Downloading: 100%|██████████| 8/8 [00:00<00:00,  8.62rows/s]\n"
     ]
    }
   ],
   "source": [
    "%%bigquery my_panda_data_frame\n",
    "\n",
    "SELECT  start_station_name, subscriber_type, COUNT(subscriber_type) AS total \n",
    "FROM `bigquery-public-data.san_francisco.bikeshare_trips` \n",
    "GROUP BY start_station_id, start_station_name, subscriber_type \n",
    "ORDER BY total ASC LIMIT 8;"
   ]
  },
  {
   "cell_type": "code",
   "execution_count": 577,
   "id": "018a6e28",
   "metadata": {},
   "outputs": [
    {
     "data": {
      "text/html": [
       "<div>\n",
       "<style scoped>\n",
       "    .dataframe tbody tr th:only-of-type {\n",
       "        vertical-align: middle;\n",
       "    }\n",
       "\n",
       "    .dataframe tbody tr th {\n",
       "        vertical-align: top;\n",
       "    }\n",
       "\n",
       "    .dataframe thead th {\n",
       "        text-align: right;\n",
       "    }\n",
       "</style>\n",
       "<table border=\"1\" class=\"dataframe\">\n",
       "  <thead>\n",
       "    <tr style=\"text-align: right;\">\n",
       "      <th></th>\n",
       "      <th>start_station_name</th>\n",
       "      <th>subscriber_type</th>\n",
       "      <th>total</th>\n",
       "    </tr>\n",
       "  </thead>\n",
       "  <tbody>\n",
       "    <tr>\n",
       "      <th>0</th>\n",
       "      <td>5th St at E. San Salvador St</td>\n",
       "      <td>Subscriber</td>\n",
       "      <td>1</td>\n",
       "    </tr>\n",
       "    <tr>\n",
       "      <th>1</th>\n",
       "      <td>5th S at E. San Salvador St</td>\n",
       "      <td>Customer</td>\n",
       "      <td>6</td>\n",
       "    </tr>\n",
       "    <tr>\n",
       "      <th>2</th>\n",
       "      <td>Kaiser Hospital</td>\n",
       "      <td>Customer</td>\n",
       "      <td>7</td>\n",
       "    </tr>\n",
       "    <tr>\n",
       "      <th>3</th>\n",
       "      <td>Sequoia Hospital</td>\n",
       "      <td>Subscriber</td>\n",
       "      <td>7</td>\n",
       "    </tr>\n",
       "    <tr>\n",
       "      <th>4</th>\n",
       "      <td>Sequoia Hospital</td>\n",
       "      <td>Customer</td>\n",
       "      <td>8</td>\n",
       "    </tr>\n",
       "    <tr>\n",
       "      <th>5</th>\n",
       "      <td>San Jose Government Center</td>\n",
       "      <td>Customer</td>\n",
       "      <td>11</td>\n",
       "    </tr>\n",
       "    <tr>\n",
       "      <th>6</th>\n",
       "      <td>San Jose Government Center</td>\n",
       "      <td>Subscriber</td>\n",
       "      <td>12</td>\n",
       "    </tr>\n",
       "    <tr>\n",
       "      <th>7</th>\n",
       "      <td>5th S at E. San Salvador St</td>\n",
       "      <td>Subscriber</td>\n",
       "      <td>13</td>\n",
       "    </tr>\n",
       "  </tbody>\n",
       "</table>\n",
       "</div>"
      ],
      "text/plain": [
       "             start_station_name subscriber_type  total\n",
       "0  5th St at E. San Salvador St      Subscriber      1\n",
       "1   5th S at E. San Salvador St        Customer      6\n",
       "2               Kaiser Hospital        Customer      7\n",
       "3              Sequoia Hospital      Subscriber      7\n",
       "4              Sequoia Hospital        Customer      8\n",
       "5    San Jose Government Center        Customer     11\n",
       "6    San Jose Government Center      Subscriber     12\n",
       "7   5th S at E. San Salvador St      Subscriber     13"
      ]
     },
     "execution_count": 577,
     "metadata": {},
     "output_type": "execute_result"
    }
   ],
   "source": [
    "#Table for least popular stations\n",
    "\n",
    "my_panda_data_frame"
   ]
  },
  {
   "cell_type": "markdown",
   "id": "fcaa5cd4",
   "metadata": {},
   "source": [
    "### Figure 1: Frequency trip distribution of the least popular stations"
   ]
  },
  {
   "cell_type": "code",
   "execution_count": 574,
   "id": "f3df71e8",
   "metadata": {},
   "outputs": [
    {
     "data": {
      "text/plain": [
       "<AxesSubplot:xlabel='start_station_name'>"
      ]
     },
     "execution_count": 574,
     "metadata": {},
     "output_type": "execute_result"
    },
    {
     "data": {
      "image/png": "[encoded data removed]",
      "text/plain": [
       "<Figure size 1080x504 with 1 Axes>"
      ]
     },
     "metadata": {
      "needs_background": "light"
     },
     "output_type": "display_data"
    }
   ],
   "source": [
    "my_panda_data_frame.plot.bar(x=\"start_station_name\", figsize=(15, 7))"
   ]
  },
  {
   "cell_type": "markdown",
   "id": "e27d78d9",
   "metadata": {},
   "source": [
    "## **<u>Recomendation 2:</u>** _Attract more recreational riders by providing weekend deals (e.g. All day pass)_   \n",
    "The datatable below as well as the plot enable us to see that the distribution of trips through out the week. Based on the table we can see that there is a substantial gab between trips taken during the week as compared to the weekend. It's possible to boost weekend profits by offering an all day pass. \n",
    "\n",
    "  "
   ]
  },
  {
   "cell_type": "code",
   "execution_count": 534,
   "id": "b36903d3",
   "metadata": {},
   "outputs": [
    {
     "name": "stdout",
     "output_type": "stream",
     "text": [
      "Waiting on bqjob_r4e8be366db0fc66e_0000017c4f723b76_1 ... (0s) Current status: DONE   \n"
     ]
    }
   ],
   "source": [
    "! bq query --use_legacy_sql=FALSE --format=csv  'SELECT  subscriber_type, day_of_week, COUNT(*) AS total_trips, FROM (SELECT subscriber_type, start_date, EXTRACT(DAYOFWEEK FROM start_date) AS day_of_week FROM 'bigquery-public-data.san_francisco.bikeshare_trips') GROUP BY subscriber_type, day_of_week ORDER BY day_of_week'> customer.csv"
   ]
  },
  {
   "cell_type": "markdown",
   "id": "613dac2b",
   "metadata": {},
   "source": [
    "### Table 2: Daily Distribution of Total Trips Taken By Customer type"
   ]
  },
  {
   "cell_type": "code",
   "execution_count": 571,
   "id": "6596b862",
   "metadata": {},
   "outputs": [
    {
     "data": {
      "text/html": [
       "<div>\n",
       "<style scoped>\n",
       "    .dataframe tbody tr th:only-of-type {\n",
       "        vertical-align: middle;\n",
       "    }\n",
       "\n",
       "    .dataframe tbody tr th {\n",
       "        vertical-align: top;\n",
       "    }\n",
       "\n",
       "    .dataframe thead th {\n",
       "        text-align: right;\n",
       "    }\n",
       "</style>\n",
       "<table border=\"1\" class=\"dataframe\">\n",
       "  <thead>\n",
       "    <tr style=\"text-align: right;\">\n",
       "      <th></th>\n",
       "      <th>subscriber_type</th>\n",
       "      <th>day_of_week</th>\n",
       "      <th>total_trips</th>\n",
       "    </tr>\n",
       "  </thead>\n",
       "  <tbody>\n",
       "    <tr>\n",
       "      <th>0</th>\n",
       "      <td>Customer</td>\n",
       "      <td>1</td>\n",
       "      <td>25908</td>\n",
       "    </tr>\n",
       "    <tr>\n",
       "      <th>1</th>\n",
       "      <td>Subscriber</td>\n",
       "      <td>1</td>\n",
       "      <td>25467</td>\n",
       "    </tr>\n",
       "    <tr>\n",
       "      <th>2</th>\n",
       "      <td>Subscriber</td>\n",
       "      <td>2</td>\n",
       "      <td>154795</td>\n",
       "    </tr>\n",
       "    <tr>\n",
       "      <th>3</th>\n",
       "      <td>Customer</td>\n",
       "      <td>2</td>\n",
       "      <td>15142</td>\n",
       "    </tr>\n",
       "    <tr>\n",
       "      <th>4</th>\n",
       "      <td>Customer</td>\n",
       "      <td>3</td>\n",
       "      <td>14737</td>\n",
       "    </tr>\n",
       "    <tr>\n",
       "      <th>5</th>\n",
       "      <td>Subscriber</td>\n",
       "      <td>3</td>\n",
       "      <td>169668</td>\n",
       "    </tr>\n",
       "    <tr>\n",
       "      <th>6</th>\n",
       "      <td>Subscriber</td>\n",
       "      <td>4</td>\n",
       "      <td>165530</td>\n",
       "    </tr>\n",
       "    <tr>\n",
       "      <th>7</th>\n",
       "      <td>Customer</td>\n",
       "      <td>4</td>\n",
       "      <td>15237</td>\n",
       "    </tr>\n",
       "    <tr>\n",
       "      <th>8</th>\n",
       "      <td>Customer</td>\n",
       "      <td>5</td>\n",
       "      <td>16612</td>\n",
       "    </tr>\n",
       "    <tr>\n",
       "      <th>9</th>\n",
       "      <td>Subscriber</td>\n",
       "      <td>5</td>\n",
       "      <td>160296</td>\n",
       "    </tr>\n",
       "    <tr>\n",
       "      <th>10</th>\n",
       "      <td>Customer</td>\n",
       "      <td>6</td>\n",
       "      <td>19929</td>\n",
       "    </tr>\n",
       "    <tr>\n",
       "      <th>11</th>\n",
       "      <td>Subscriber</td>\n",
       "      <td>6</td>\n",
       "      <td>140048</td>\n",
       "    </tr>\n",
       "    <tr>\n",
       "      <th>12</th>\n",
       "      <td>Subscriber</td>\n",
       "      <td>7</td>\n",
       "      <td>31035</td>\n",
       "    </tr>\n",
       "    <tr>\n",
       "      <th>13</th>\n",
       "      <td>Customer</td>\n",
       "      <td>7</td>\n",
       "      <td>29244</td>\n",
       "    </tr>\n",
       "  </tbody>\n",
       "</table>\n",
       "</div>"
      ],
      "text/plain": [
       "   subscriber_type  day_of_week  total_trips\n",
       "0         Customer            1        25908\n",
       "1       Subscriber            1        25467\n",
       "2       Subscriber            2       154795\n",
       "3         Customer            2        15142\n",
       "4         Customer            3        14737\n",
       "5       Subscriber            3       169668\n",
       "6       Subscriber            4       165530\n",
       "7         Customer            4        15237\n",
       "8         Customer            5        16612\n",
       "9       Subscriber            5       160296\n",
       "10        Customer            6        19929\n",
       "11      Subscriber            6       140048\n",
       "12      Subscriber            7        31035\n",
       "13        Customer            7        29244"
      ]
     },
     "execution_count": 571,
     "metadata": {},
     "output_type": "execute_result"
    }
   ],
   "source": [
    "customer_trips = pd.read_csv('customer.csv')\n",
    "customer_trips"
   ]
  },
  {
   "cell_type": "markdown",
   "id": "251e5620",
   "metadata": {},
   "source": [
    "### Figure 2: Customer vs Subscriber Trip Frequency by Week. \n",
    "\n",
    "The chart below enables a better visualization of the trips taken throughout the week. We can easily see the drop off on the 1st day of the week (Sunday) and 7th day of the week (Saturday). Because commuter travel happens on the weekday, the demand for bicycles is low, however we can cater to the recreational riders"
   ]
  },
  {
   "cell_type": "code",
   "execution_count": 572,
   "id": "5475430d",
   "metadata": {},
   "outputs": [
    {
     "data": {
      "text/plain": [
       "<AxesSubplot:xlabel='day_of_week'>"
      ]
     },
     "execution_count": 572,
     "metadata": {},
     "output_type": "execute_result"
    },
    {
     "data": {
      "image/png": "[encoded data removed]",
      "text/plain": [
       "<Figure size 1080x504 with 1 Axes>"
      ]
     },
     "metadata": {
      "needs_background": "light"
     },
     "output_type": "display_data"
    }
   ],
   "source": [
    "pivot_table = customer_trips.pivot(index=\"day_of_week\", columns=\"subscriber_type\", values=\"total_trips\")\n",
    "pivot_table.plot(kind=\"bar\", stacked=True, figsize=(15, 7))"
   ]
  },
  {
   "cell_type": "code",
   "execution_count": 506,
   "id": "72ea6e56",
   "metadata": {},
   "outputs": [
    {
     "name": "stderr",
     "output_type": "stream",
     "text": [
      "Query complete after 0.00s: 100%|██████████| 1/1 [00:00<00:00, 381.79query/s] \n",
      "Downloading: 100%|██████████| 5/5 [00:00<00:00,  5.60rows/s]\n"
     ]
    }
   ],
   "source": [
    "%%bigquery my_panda_data_frame\n",
    "\n",
    "SELECT start_station_name, end_station_name,\n",
    "   EXTRACT(DAYOFWEEK FROM start_date) AS day_of_week, subscriber_type,\n",
    "   EXTRACT(HOUR FROM start_date) AS hour_of_day,\n",
    "   ROUND(AVG(duration_sec/60),2) AS avg_duration_min,\n",
    "   COUNT(*) as trip_freq,\n",
    "FROM `bigquery-public-data.san_francisco.bikeshare_trips`\n",
    "WHERE subscriber_type = \"Customer\"\n",
    "GROUP BY start_station_name, end_station_name, day_of_week, hour_of_day, subscriber_type\n",
    "ORDER BY trip_freq DESC LIMIT 5;"
   ]
  },
  {
   "cell_type": "markdown",
   "id": "2fb6c84b",
   "metadata": {},
   "source": [
    "### Weekend Recreational Trips\n",
    "\n",
    "The table below are the top 5 trips taken by the customers (non-subscribers). According to the data, we see that the average duration ranges from 27 minutes to approximately 60 min and between the 12th and 14th hour of the day which is after the lunch hour. "
   ]
  },
  {
   "cell_type": "code",
   "execution_count": 507,
   "id": "ec38ae47",
   "metadata": {},
   "outputs": [
    {
     "data": {
      "text/html": [
       "<div>\n",
       "<style scoped>\n",
       "    .dataframe tbody tr th:only-of-type {\n",
       "        vertical-align: middle;\n",
       "    }\n",
       "\n",
       "    .dataframe tbody tr th {\n",
       "        vertical-align: top;\n",
       "    }\n",
       "\n",
       "    .dataframe thead th {\n",
       "        text-align: right;\n",
       "    }\n",
       "</style>\n",
       "<table border=\"1\" class=\"dataframe\">\n",
       "  <thead>\n",
       "    <tr style=\"text-align: right;\">\n",
       "      <th></th>\n",
       "      <th>start_station_name</th>\n",
       "      <th>end_station_name</th>\n",
       "      <th>day_of_week</th>\n",
       "      <th>subscriber_type</th>\n",
       "      <th>hour_of_day</th>\n",
       "      <th>avg_duration_min</th>\n",
       "      <th>trip_freq</th>\n",
       "    </tr>\n",
       "  </thead>\n",
       "  <tbody>\n",
       "    <tr>\n",
       "      <th>0</th>\n",
       "      <td>Harry Bridges Plaza (Ferry Building)</td>\n",
       "      <td>Embarcadero at Sansome</td>\n",
       "      <td>7</td>\n",
       "      <td>Customer</td>\n",
       "      <td>12</td>\n",
       "      <td>53.94</td>\n",
       "      <td>131</td>\n",
       "    </tr>\n",
       "    <tr>\n",
       "      <th>1</th>\n",
       "      <td>Harry Bridges Plaza (Ferry Building)</td>\n",
       "      <td>Embarcadero at Sansome</td>\n",
       "      <td>1</td>\n",
       "      <td>Customer</td>\n",
       "      <td>12</td>\n",
       "      <td>34.36</td>\n",
       "      <td>126</td>\n",
       "    </tr>\n",
       "    <tr>\n",
       "      <th>2</th>\n",
       "      <td>Harry Bridges Plaza (Ferry Building)</td>\n",
       "      <td>Embarcadero at Sansome</td>\n",
       "      <td>7</td>\n",
       "      <td>Customer</td>\n",
       "      <td>13</td>\n",
       "      <td>27.45</td>\n",
       "      <td>122</td>\n",
       "    </tr>\n",
       "    <tr>\n",
       "      <th>3</th>\n",
       "      <td>Harry Bridges Plaza (Ferry Building)</td>\n",
       "      <td>Embarcadero at Sansome</td>\n",
       "      <td>1</td>\n",
       "      <td>Customer</td>\n",
       "      <td>14</td>\n",
       "      <td>35.49</td>\n",
       "      <td>114</td>\n",
       "    </tr>\n",
       "    <tr>\n",
       "      <th>4</th>\n",
       "      <td>Harry Bridges Plaza (Ferry Building)</td>\n",
       "      <td>Embarcadero at Sansome</td>\n",
       "      <td>7</td>\n",
       "      <td>Customer</td>\n",
       "      <td>14</td>\n",
       "      <td>58.50</td>\n",
       "      <td>109</td>\n",
       "    </tr>\n",
       "  </tbody>\n",
       "</table>\n",
       "</div>"
      ],
      "text/plain": [
       "                     start_station_name        end_station_name  day_of_week  \\\n",
       "0  Harry Bridges Plaza (Ferry Building)  Embarcadero at Sansome            7   \n",
       "1  Harry Bridges Plaza (Ferry Building)  Embarcadero at Sansome            1   \n",
       "2  Harry Bridges Plaza (Ferry Building)  Embarcadero at Sansome            7   \n",
       "3  Harry Bridges Plaza (Ferry Building)  Embarcadero at Sansome            1   \n",
       "4  Harry Bridges Plaza (Ferry Building)  Embarcadero at Sansome            7   \n",
       "\n",
       "  subscriber_type  hour_of_day  avg_duration_min  trip_freq  \n",
       "0        Customer           12             53.94        131  \n",
       "1        Customer           12             34.36        126  \n",
       "2        Customer           13             27.45        122  \n",
       "3        Customer           14             35.49        114  \n",
       "4        Customer           14             58.50        109  "
      ]
     },
     "execution_count": 507,
     "metadata": {},
     "output_type": "execute_result"
    }
   ],
   "source": [
    "my_panda_data_frame"
   ]
  },
  {
   "cell_type": "markdown",
   "id": "ab04939f",
   "metadata": {},
   "source": [
    "# Conclusion"
   ]
  },
  {
   "cell_type": "markdown",
   "id": "48ea231e",
   "metadata": {},
   "source": [
    "In summary, we established our primary customer base are the weekday commuters who subscribe to the 30 day payment model. These customers typically likely ride the ferry boat and take the cal train in San Francisco. The area where our business performace is not doing so well are the docking stations in San Jose. With bikeshare services becoming more competitive, we must do what we can to secure and gain market share in this sector by converting our recreational customers to subscribers which can be done by offering special weekend rates such as an all day pass. "
   ]
  },
  {
   "cell_type": "code",
   "execution_count": null,
   "id": "02b09490",
   "metadata": {},
   "outputs": [],
   "source": []
  }
 ],
 "metadata": {
  "environment": {
   "name": "common-cpu.m79",
   "type": "gcloud",
   "uri": "gcr.io/deeplearning-platform-release/base-cpu:m79"
  },
  "kernelspec": {
   "display_name": "Python 3",
   "language": "python",
   "name": "python3"
  },
  "language_info": {
   "codemirror_mode": {
    "name": "ipython",
    "version": 3
   },
   "file_extension": ".py",
   "mimetype": "text/x-python",
   "name": "python",
   "nbconvert_exporter": "python",
   "pygments_lexer": "ipython3",
   "version": "3.8.8"
  }
 },
 "nbformat": 4,
 "nbformat_minor": 5
}
